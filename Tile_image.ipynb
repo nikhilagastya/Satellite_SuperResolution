{
 "cells": [
  {
   "cell_type": "code",
   "execution_count": null,
   "metadata": {},
   "outputs": [
    {
     "ename": "",
     "evalue": "",
     "output_type": "error",
     "traceback": [
      "\u001b[1;31mRunning cells with 'venv' requires the ipykernel package.\n",
      "\u001b[1;31mRun the following command to install 'ipykernel' into the Python environment. \n",
      "\u001b[1;31mCommand: '\"c:/Users/agast/OneDrive/Desktop/niks/python/tile images/venv/Scripts/python.exe\" -m pip install ipykernel -U --force-reinstall'"
     ]
    }
   ],
   "source": []
  },
  {
   "cell_type": "code",
   "execution_count": 2,
   "metadata": {},
   "outputs": [
    {
     "name": "stdout",
     "output_type": "stream",
     "text": [
      "Collecting rasterio\n",
      "  Downloading rasterio-1.3.8-cp310-cp310-win_amd64.whl (22.9 MB)\n",
      "     ---------------------------------------- 22.9/22.9 MB 4.7 MB/s eta 0:00:00\n",
      "Requirement already satisfied: setuptools in c:\\program files\\windowsapps\\pythonsoftwarefoundation.python.3.10_3.10.3056.0_x64__qbz5n2kfra8p0\\lib\\site-packages (from rasterio) (65.5.0)\n",
      "Requirement already satisfied: certifi in c:\\users\\agast\\appdata\\local\\packages\\pythonsoftwarefoundation.python.3.10_qbz5n2kfra8p0\\localcache\\local-packages\\python310\\site-packages (from rasterio) (2022.9.14)\n",
      "Collecting cligj>=0.5\n",
      "  Using cached cligj-0.7.2-py3-none-any.whl (7.1 kB)\n",
      "Collecting attrs\n",
      "  Using cached attrs-23.1.0-py3-none-any.whl (61 kB)\n",
      "Requirement already satisfied: numpy>=1.18 in c:\\users\\agast\\appdata\\local\\packages\\pythonsoftwarefoundation.python.3.10_qbz5n2kfra8p0\\localcache\\local-packages\\python310\\site-packages (from rasterio) (1.23.3)\n",
      "Collecting snuggs>=1.4.1\n",
      "  Using cached snuggs-1.4.7-py3-none-any.whl (5.4 kB)\n",
      "Collecting affine\n",
      "  Using cached affine-2.4.0-py3-none-any.whl (15 kB)\n",
      "Collecting click>=4.0\n",
      "  Using cached click-8.1.7-py3-none-any.whl (97 kB)\n",
      "Collecting click-plugins\n",
      "  Using cached click_plugins-1.1.1-py2.py3-none-any.whl (7.5 kB)\n",
      "Requirement already satisfied: colorama in c:\\users\\agast\\appdata\\local\\packages\\pythonsoftwarefoundation.python.3.10_qbz5n2kfra8p0\\localcache\\local-packages\\python310\\site-packages (from click>=4.0->rasterio) (0.4.6)\n",
      "Requirement already satisfied: pyparsing>=2.1.6 in c:\\users\\agast\\appdata\\local\\packages\\pythonsoftwarefoundation.python.3.10_qbz5n2kfra8p0\\localcache\\local-packages\\python310\\site-packages (from snuggs>=1.4.1->rasterio) (3.0.9)\n",
      "Installing collected packages: snuggs, click, attrs, affine, cligj, click-plugins, rasterio\n",
      "Successfully installed affine-2.4.0 attrs-23.1.0 click-8.1.7 click-plugins-1.1.1 cligj-0.7.2 rasterio-1.3.8 snuggs-1.4.7\n",
      "Note: you may need to restart the kernel to use updated packages.\n"
     ]
    },
    {
     "name": "stderr",
     "output_type": "stream",
     "text": [
      "\n",
      "[notice] A new release of pip available: 22.2.2 -> 23.2.1\n",
      "[notice] To update, run: C:\\Users\\agast\\AppData\\Local\\Microsoft\\WindowsApps\\PythonSoftwareFoundation.Python.3.10_qbz5n2kfra8p0\\python.exe -m pip install --upgrade pip\n"
     ]
    }
   ],
   "source": [
    "pip install rasterio"
   ]
  },
  {
   "cell_type": "code",
   "execution_count": 8,
   "metadata": {},
   "outputs": [
    {
     "name": "stdout",
     "output_type": "stream",
     "text": [
      "Note: you may need to restart the kernel to use updated packages.\n"
     ]
    },
    {
     "name": "stderr",
     "output_type": "stream",
     "text": [
      "ERROR: Could not find a version that satisfies the requirement pil (from versions: none)\n",
      "ERROR: No matching distribution found for pil\n",
      "\n",
      "[notice] A new release of pip available: 22.2.2 -> 23.2.1\n",
      "[notice] To update, run: C:\\Users\\agast\\AppData\\Local\\Microsoft\\WindowsApps\\PythonSoftwareFoundation.Python.3.10_qbz5n2kfra8p0\\python.exe -m pip install --upgrade pip\n"
     ]
    }
   ],
   "source": [
    "pip install pil"
   ]
  },
  {
   "cell_type": "code",
   "execution_count": 3,
   "metadata": {},
   "outputs": [],
   "source": [
    "import os\n",
    "import math\n",
    "from itertools import product\n",
    "import rasterio as rio\n",
    "from PIL import Image \n",
    "from rasterio import windows"
   ]
  },
  {
   "cell_type": "code",
   "execution_count": 5,
   "metadata": {},
   "outputs": [
    {
     "name": "stdout",
     "output_type": "stream",
     "text": [
      "{'driver': 'GTiff', 'dtype': 'uint16', 'nodata': None, 'width': 17958, 'height': 16346, 'count': 3, 'crs': CRS.from_epsg(32644), 'transform': Affine(5.0, 0.0, 333658.94308370305,\n",
      "       0.0, -5.0, 1664427.5)}\n"
     ]
    }
   ],
   "source": [
    "def get_tiles(ds, tile_width, tile_height, overlap):\n",
    "    nols, nrows = ds.meta['width'], ds.meta['height']\n",
    "    xstep = tile_width - overlap\n",
    "    ystep = tile_height - overlap\n",
    "    for x in range(0, nols, xstep):\n",
    "        if x + tile_width > nols:\n",
    "            x = nols - tile_width\n",
    "        for y in range(0, nrows, ystep):\n",
    "            if y + tile_height > nrows:\n",
    "                y = nrows - tile_height\n",
    "            window = windows.Window(x, y, tile_width, tile_height)\n",
    "            transform = windows.transform(window, ds.transform)\n",
    "            yield window, transform\n",
    "\n",
    "in_path = 'Raw/'\n",
    "input_filename = '5m.tif'\n",
    "\n",
    "out_path = 'Output_10m/'\n",
    "output_filename = 'tile_{}-{}.tif'\n",
    "\n",
    "tile_width = 100\n",
    "tile_height = 100\n",
    "overlap = 0\n",
    "\n",
    "with rio.open(os.path.join(in_path, input_filename)) as src:\n",
    "    metadata = src.meta.copy()\n",
    "    print(metadata)\n",
    "\n",
    "    for window, transform in get_tiles(src, tile_width, tile_height, overlap):\n",
    "        metadata['transform'] = transform\n",
    "        metadata['width'], metadata['height'] = window.width, window.height\n",
    "        out_filepath = os.path.join(out_path, output_filename.format(window.col_off, window.row_off))\n",
    "        \n",
    "        with rio.open(out_filepath, 'w', **metadata) as dst:\n",
    "            dst.write(src.read(window=window))"
   ]
  },
  {
   "cell_type": "code",
   "execution_count": 9,
   "metadata": {},
   "outputs": [
    {
     "ename": "UnidentifiedImageError",
     "evalue": "cannot identify image file 'Output_10m/tile_0-0.tif'",
     "output_type": "error",
     "traceback": [
      "\u001b[1;31m---------------------------------------------------------------------------\u001b[0m",
      "\u001b[1;31mUnidentifiedImageError\u001b[0m                    Traceback (most recent call last)",
      "\u001b[1;32mc:\\Users\\agast\\OneDrive\\Desktop\\niks\\python\\tile images\\test.ipynb Cell 6\u001b[0m line \u001b[0;36m2\n\u001b[0;32m     <a href='vscode-notebook-cell:/c%3A/Users/agast/OneDrive/Desktop/niks/python/tile%20images/test.ipynb#W5sZmlsZQ%3D%3D?line=22'>23</a>\u001b[0m         \u001b[39melse\u001b[39;00m :\n\u001b[0;32m     <a href='vscode-notebook-cell:/c%3A/Users/agast/OneDrive/Desktop/niks/python/tile%20images/test.ipynb#W5sZmlsZQ%3D%3D?line=23'>24</a>\u001b[0m             \u001b[39mcontinue\u001b[39;00m\n\u001b[1;32m---> <a href='vscode-notebook-cell:/c%3A/Users/agast/OneDrive/Desktop/niks/python/tile%20images/test.ipynb#W5sZmlsZQ%3D%3D?line=25'>26</a>\u001b[0m generate_dirty(\u001b[39m\"\u001b[39;49m\u001b[39mOutput_10m\u001b[39;49m\u001b[39m\"\u001b[39;49m)\n",
      "\u001b[1;32mc:\\Users\\agast\\OneDrive\\Desktop\\niks\\python\\tile images\\test.ipynb Cell 6\u001b[0m line \u001b[0;36m2\n\u001b[0;32m     <a href='vscode-notebook-cell:/c%3A/Users/agast/OneDrive/Desktop/niks/python/tile%20images/test.ipynb#W5sZmlsZQ%3D%3D?line=16'>17</a>\u001b[0m \u001b[39mfor\u001b[39;00m file \u001b[39min\u001b[39;00m os\u001b[39m.\u001b[39mlistdir(\u001b[39mstr\u001b[39m(input_train_path)):\n\u001b[0;32m     <a href='vscode-notebook-cell:/c%3A/Users/agast/OneDrive/Desktop/niks/python/tile%20images/test.ipynb#W5sZmlsZQ%3D%3D?line=18'>19</a>\u001b[0m     \u001b[39mif\u001b[39;00m(os\u001b[39m.\u001b[39mpath\u001b[39m.\u001b[39msplitext(\u001b[39mstr\u001b[39m(input_train_path \u001b[39m+\u001b[39m\u001b[39m'\u001b[39m\u001b[39m/\u001b[39m\u001b[39m'\u001b[39m\u001b[39m+\u001b[39m file))[\u001b[39m1\u001b[39m]\u001b[39m.\u001b[39mlower()\u001b[39m==\u001b[39m\u001b[39m'\u001b[39m\u001b[39m.tif\u001b[39m\u001b[39m'\u001b[39m \u001b[39mor\u001b[39;00m os\u001b[39m.\u001b[39mpath\u001b[39m.\u001b[39msplitext(\u001b[39mstr\u001b[39m(input_train_path \u001b[39m+\u001b[39m\u001b[39m'\u001b[39m\u001b[39m/\u001b[39m\u001b[39m'\u001b[39m\u001b[39m+\u001b[39m file))[\u001b[39m1\u001b[39m]\u001b[39m.\u001b[39mlower()\u001b[39m==\u001b[39m\u001b[39m'\u001b[39m\u001b[39mtiff\u001b[39m\u001b[39m'\u001b[39m):\n\u001b[1;32m---> <a href='vscode-notebook-cell:/c%3A/Users/agast/OneDrive/Desktop/niks/python/tile%20images/test.ipynb#W5sZmlsZQ%3D%3D?line=19'>20</a>\u001b[0m         img \u001b[39m=\u001b[39m Image\u001b[39m.\u001b[39;49mopen(\u001b[39mstr\u001b[39;49m(input_train_path \u001b[39m+\u001b[39;49m\u001b[39m'\u001b[39;49m\u001b[39m/\u001b[39;49m\u001b[39m'\u001b[39;49m\u001b[39m+\u001b[39;49m file))\n\u001b[0;32m     <a href='vscode-notebook-cell:/c%3A/Users/agast/OneDrive/Desktop/niks/python/tile%20images/test.ipynb#W5sZmlsZQ%3D%3D?line=20'>21</a>\u001b[0m         temp \u001b[39m=\u001b[39m img\u001b[39m.\u001b[39mresize((\u001b[39m400\u001b[39m, \u001b[39m400\u001b[39m), Image\u001b[39m.\u001b[39mBILINEAR)\n\u001b[0;32m     <a href='vscode-notebook-cell:/c%3A/Users/agast/OneDrive/Desktop/niks/python/tile%20images/test.ipynb#W5sZmlsZQ%3D%3D?line=21'>22</a>\u001b[0m         temp\u001b[39m.\u001b[39msave(\u001b[39mstr\u001b[39m(output_train_path \u001b[39m+\u001b[39m\u001b[39m'\u001b[39m\u001b[39m/\u001b[39m\u001b[39m'\u001b[39m\u001b[39m+\u001b[39m file))\n",
      "File \u001b[1;32m~\\AppData\\Local\\Packages\\PythonSoftwareFoundation.Python.3.10_qbz5n2kfra8p0\\LocalCache\\local-packages\\Python310\\site-packages\\PIL\\Image.py:3280\u001b[0m, in \u001b[0;36mopen\u001b[1;34m(fp, mode, formats)\u001b[0m\n\u001b[0;32m   3278\u001b[0m     warnings\u001b[39m.\u001b[39mwarn(message)\n\u001b[0;32m   3279\u001b[0m msg \u001b[39m=\u001b[39m \u001b[39m\"\u001b[39m\u001b[39mcannot identify image file \u001b[39m\u001b[39m%r\u001b[39;00m\u001b[39m\"\u001b[39m \u001b[39m%\u001b[39m (filename \u001b[39mif\u001b[39;00m filename \u001b[39melse\u001b[39;00m fp)\n\u001b[1;32m-> 3280\u001b[0m \u001b[39mraise\u001b[39;00m UnidentifiedImageError(msg)\n",
      "\u001b[1;31mUnidentifiedImageError\u001b[0m: cannot identify image file 'Output_10m/tile_0-0.tif'"
     ]
    }
   ],
   "source": [
    "def generate_dirty(data_path):\n",
    "    \"\"\"\n",
    "    Generate the X values by downsampling clean imagery.\n",
    "\n",
    "    Args:\n",
    "        data_path:\n",
    "\n",
    "    \"\"\"\n",
    "    input_train_path = data_path \n",
    "   \n",
    "\n",
    "    output_train_path = \"5m_400px\"\n",
    " \n",
    "\n",
    "    \n",
    "  \n",
    "    for file in os.listdir(str(input_train_path)):\n",
    "        \n",
    "        if(os.path.splitext(str(input_train_path +'/'+ file))[1].lower()=='.tif' or os.path.splitext(str(input_train_path +'/'+ file))[1].lower()=='tiff'):\n",
    "            img = Image.open(str(input_train_path +'/'+ file))\n",
    "            # change the size according to the input\n",
    "            temp = img.resize((400, 400), Image.BILINEAR) \n",
    "            temp.save(str(output_train_path +'/'+ file))\n",
    "        else :\n",
    "            continue\n",
    "\n",
    "generate_dirty(\"Output_10m\")\n"
   ]
  },
  {
   "cell_type": "code",
   "execution_count": null,
   "metadata": {},
   "outputs": [],
   "source": []
  },
  {
   "cell_type": "code",
   "execution_count": null,
   "metadata": {},
   "outputs": [],
   "source": []
  }
 ],
 "metadata": {
  "interpreter": {
   "hash": "055c94a15975e7e6de71445ea9204ef85c312889ad2685ebb24c4fdee5b22d84"
  },
  "kernelspec": {
   "display_name": "Python 3.10.11 64-bit (windows store)",
   "language": "python",
   "name": "python3"
  },
  "language_info": {
   "codemirror_mode": {
    "name": "ipython",
    "version": 3
   },
   "file_extension": ".py",
   "mimetype": "text/x-python",
   "name": "python",
   "nbconvert_exporter": "python",
   "pygments_lexer": "ipython3",
   "version": "3.10.11"
  },
  "orig_nbformat": 4
 },
 "nbformat": 4,
 "nbformat_minor": 2
}
